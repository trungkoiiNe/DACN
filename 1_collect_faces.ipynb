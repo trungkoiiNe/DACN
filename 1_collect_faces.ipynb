{
  "cells": [
    {
      "cell_type": "markdown",
      "source": [
        "# Face Data Collection\n",
        "Install required packages and import libraries"
      ]
    },
    {
      "cell_type": "code",
      "source": [
        "!pip install mtcnn opencv-python\n",
        "import cv2\n",
        "from mtcnn import MTCNN\n",
        "from google.colab import files\n",
        "from IPython.display import display, Javascript\n",
        "from google.colab.patches import cv2_imshow\n",
        "import numpy as np\n",
        "import os"
      ]
    },
    {
      "cell_type": "code",
      "source": [
        "def capture_faces():\n",
        "    from IPython.display import HTML, Image\n",
        "    from google.colab.output import eval_js\n",
        "    from base64 import b64decode\n",
        "    import uuid\n",
        "\n",
        "    SAVE_DIR = 'face_data'\n",
        "    if not os.path.exists(SAVE_DIR):\n",
        "        os.makedirs(SAVE_DIR)\n",
        "\n",
        "    person_name = input(\"Enter person's name: \")\n",
        "    person_dir = os.path.join(SAVE_DIR, person_name)\n",
        "    if not os.path.exists(person_dir):\n",
        "        os.makedirs(person_dir)\n",
        "\n",
        "    detector = MTCNN()\n",
        "\n",
        "    def take_photo(filename='photo.jpg'):\n",
        "        js = Javascript('''\n",
        "            async function takePhoto() {\n",
        "                const stream = await navigator.mediaDevices.getUserMedia({video: true});\n",
        "                const video = document.createElement('video');\n",
        "                const div = document.createElement('div');\n",
        "                document.body.appendChild(div);\n",
        "                div.appendChild(video);\n",
        "                video.srcObject = stream;\n",
        "                await video.play();\n",
        "\n",
        "                const canvas = document.createElement('canvas');\n",
        "                canvas.width = video.videoWidth;\n",
        "                canvas.height = video.videoHeight;\n",
        "                canvas.getContext('2d').drawImage(video, 0, 0);\n",
        "                const img = canvas.toDataURL('image/jpeg');\n",
        "\n",
        "                stream.getVideoTracks()[0].stop();\n",
        "                div.remove();\n",
        "                return img;\n",
        "            }\n",
        "            ''')\n",
        "        display(js)\n",
        "        data = eval_js('takePhoto()')\n",
        "        binary = b64decode(data.split(',')[1])\n",
        "        return binary\n",
        "\n",
        "    num_photos = 20  # Number of photos to capture\n",
        "    for i in range(num_photos):\n",
        "        print(f\"Taking photo {i+1}/{num_photos}\")\n",
        "        binary = take_photo()\n",
        "        img_file = f\"{person_dir}/{str(uuid.uuid4())}.jpg\"\n",
        "        \n",
        "        # Save the image\n",
        "        with open(img_file, 'wb') as f:\n",
        "            f.write(binary)\n",
        "        \n",
        "        # Read and process the saved image\n",
        "        img = cv2.imread(img_file)\n",
        "        faces = detector.detect_faces(cv2.cvtColor(img, cv2.COLOR_BGR2RGB))\n",
        "        \n",
        "        if faces:\n",
        "            for face in faces:\n",
        "                x, y, width, height = face['box']\n",
        "                face_img = img[y:y+height, x:x+width]\n",
        "                face_img = cv2.resize(face_img, (160, 160))\n",
        "                cv2.imwrite(img_file, face_img)\n",
        "        else:\n",
        "            print(\"No face detected in this photo\")\n",
        "            os.remove(img_file)\n",
        "\n",
        "    print(\"Data collection completed!\")"
      ]
    },
    {
      "cell_type": "code",
      "source": [
        "# Run the face collection process\n",
        "capture_faces()"
      ]
    }
  ]
}
