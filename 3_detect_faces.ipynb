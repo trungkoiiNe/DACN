{
  "cells": [
    {
      "cell_type": "markdown",
      "source": [
        "# Real-time Face Detection and Recognition"
      ]
    },
    {
      "cell_type": "code",
      "source": [
        "!pip install tensorflow mtcnn opencv-python\n",
        "import tensorflow as tf\n",
        "from mtcnn import MTCNN\n",
        "import cv2\n",
        "import numpy as np\n",
        "from google.colab.patches import cv2_imshow\n",
        "from IPython.display import display, Javascript\n",
        "from google.colab.output import eval_js\n",
        "from base64 import b64decode"
      ]
    },
    {
      "cell_type": "code",
      "source": [
        "# Load the trained model and class names\n",
        "model = tf.keras.models.load_model('face_recognition_model.h5')\n",
        "class_names = np.load('face_classes.npy')\n",
        "detector = MTCNN()"
      ]
    },
    {
      "cell_type": "code",
      "source": [
        "def detect_and_recognize():\n",
        "    def take_photo(filename='photo.jpg'):\n",
        "        js = Javascript('''\n",
        "            async function takePhoto() {\n",
        "                const stream = await navigator.mediaDevices.getUserMedia({video: true});\n",
        "                const video = document.createElement('video');\n",
        "                const div = document.createElement('div');\n",
        "                document.body.appendChild(div);\n",
        "                div.appendChild(video);\n",
        "                video.srcObject = stream;\n",
        "                await video.play();\n",
        "\n",
        "                const canvas = document.createElement('canvas');\n",
        "                canvas.width = video.videoWidth;\n",
        "                canvas.height = video.videoHeight;\n",
        "                canvas.getContext('2d').drawImage(video, 0, 0);\n",
        "                const img = canvas.toDataURL('image/jpeg');\n",
        "\n",
        "                stream.getVideoTracks()[0].stop();\n",
        "                div.remove();\n",
        "                return img;\n",
        "            }\n",
        "            ''')\n",
        "        display(js)\n",
        "        data = eval_js('takePhoto()')\n",
        "        binary = b64decode(data.split(',')[1])\n",
        "        return binary\n",
        "\n",
        "    # Capture and process frame\n",
        "    binary = take_photo()\n",
        "    nparr = np.frombuffer(binary, np.uint8)\n",
        "    frame = cv2.imdecode(nparr, cv2.IMREAD_COLOR)\n",
        "\n",
        "    # Detect faces\n",
        "    faces = detector.detect_faces(cv2.cvtColor(frame, cv2.COLOR_BGR2RGB))\n",
        "\n",
        "    for face in faces:\n",
        "        x, y, width, height = face['box']\n",
        "        face_img = frame[y:y+height, x:x+width]\n",
        "        face_img = cv2.resize(face_img, (160, 160))\n",
        "        face_img = face_img / 255.0\n",
        "        \n",
        "        # Predict\n",
        "        prediction = model.predict(np.expand_dims(face_img, axis=0))\n",
        "        predicted_class = class_names[np.argmax(prediction)]\n",
        "        confidence = np.max(prediction)\n",
        "\n",
        "        # Draw rectangle and label\n",
        "        cv2.rectangle(frame, (x, y), (x + width, y + height), (0, 255, 0), 2)\n",
        "        cv2.putText(frame, f\"{predicted_class} ({confidence:.2f})\",\n",
        "                    (x, y - 10), cv2.FONT_HERSHEY_SIMPLEX, 0.9,\n",
        "                    (0, 255, 0), 2)\n",
        "\n",
        "    cv2_imshow(frame)\n",
        "\n",
        "# Run detection loop\n",
        "while True:\n",
        "    try:\n",
        "        detect_and_recognize()\n",
        "    except KeyboardInterrupt:\n",
        "        break"
      ]
    }
  ]
}
