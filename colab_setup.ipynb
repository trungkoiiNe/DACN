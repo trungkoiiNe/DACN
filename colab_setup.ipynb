{
 "cells": [
  {
   "cell_type": "code",
   "execution_count": null,
   "metadata": {},
   "outputs": [],
   "source": [
    "# Install required packages\n",
    "!pip install streamlit opencv-python-headless mtcnn tensorflow numpy scikit-learn"
   ]
  },
  {
   "cell_type": "code",
   "execution_count": null,
   "metadata": {},
   "outputs": [],
   "source": [
    "# Download project files\n",
    "!git clone https://github.com/yourusername/face-attendance-system.git\n",
    "%cd face-attendance-system"
   ]
  },
  {
   "cell_type": "code",
   "execution_count": null,
   "metadata": {},
   "outputs": [],
   "source": [
    "# Run Streamlit app\n",
    "!streamlit run app.py & npx localtunnel --port 8501"
   ]
  }
 ]
}
