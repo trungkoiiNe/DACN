{
  "cells": [
    {
      "cell_type": "markdown",
      "source": [
        "# Face Recognition Model Training"
      ]
    },
    {
      "cell_type": "code",
      "source": [
        "!pip install tensorflow mtcnn scikit-learn\n",
        "import tensorflow as tf\n",
        "from tensorflow.keras.applications import MobileNetV2\n",
        "from tensorflow.keras.layers import Dense, GlobalAveragePooling2D\n",
        "from tensorflow.keras.models import Model\n",
        "import numpy as np\n",
        "import os\n",
        "from sklearn.preprocessing import LabelEncoder\n",
        "import cv2"
      ]
    },
    {
      "cell_type": "code",
      "source": [
        "def load_dataset(data_dir='face_data'):\n",
        "    images = []\n",
        "    labels = []\n",
        "    \n",
        "    for person_name in os.listdir(data_dir):\n",
        "        person_dir = os.path.join(data_dir, person_name)\n",
        "        if os.path.isdir(person_dir):\n",
        "            for img_name in os.listdir(person_dir):\n",
        "                img_path = os.path.join(person_dir, img_name)\n",
        "                img = cv2.imread(img_path)\n",
        "                img = cv2.resize(img, (160, 160))\n",
        "                img = img / 255.0  # Normalize\n",
        "                images.append(img)\n",
        "                labels.append(person_name)\n",
        "    \n",
        "    return np.array(images), np.array(labels)"
      ]
    },
    {
      "cell_type": "code",
      "source": [
        "# Load and prepare data\n",
        "X, y = load_dataset()\n",
        "le = LabelEncoder()\n",
        "y = le.fit_transform(y)\n",
        "num_classes = len(le.classes_)\n",
        "\n",
        "# Save label encoder classes\n",
        "np.save('face_classes.npy', le.classes_)"
      ]
    },
    {
      "cell_type": "code",
      "source": [
        "# Create and train model\n",
        "base_model = MobileNetV2(input_shape=(160, 160, 3), include_top=False, weights='imagenet')\n",
        "x = base_model.output\n",
        "x = GlobalAveragePooling2D()(x)\n",
        "x = Dense(1024, activation='relu')(x)\n",
        "predictions = Dense(num_classes, activation='softmax')(x)\n",
        "\n",
        "model = Model(inputs=base_model.input, outputs=predictions)\n",
        "\n",
        "# Freeze the base model layers\n",
        "for layer in base_model.layers:\n",
        "    layer.trainable = False\n",
        "\n",
        "model.compile(optimizer='adam',\n",
        "              loss='sparse_categorical_crossentropy',\n",
        "              metrics=['accuracy'])\n",
        "\n",
        "# Train the model\n",
        "history = model.fit(X, y, batch_size=32, epochs=10, validation_split=0.2)\n",
        "\n",
        "# Save the model\n",
        "model.save('face_recognition_model.h5')"
      ]
    }
  ]
}
